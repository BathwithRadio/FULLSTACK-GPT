{
 "cells": [
  {
   "cell_type": "code",
   "execution_count": 30,
   "metadata": {},
   "outputs": [
    {
     "ename": "AttributeError",
     "evalue": "'list' object has no attribute '_merge_partial_and_user_variables'",
     "output_type": "error",
     "traceback": [
      "\u001b[0;31m---------------------------------------------------------------------------\u001b[0m",
      "\u001b[0;31mAttributeError\u001b[0m                            Traceback (most recent call last)",
      "\u001b[1;32m/Users/yumingi/Desktop/Coding/FULLSTACK-GPT/notebook.ipynb Cell 1\u001b[0m line \u001b[0;36m1\n\u001b[1;32m      <a href='vscode-notebook-cell:/Users/yumingi/Desktop/Coding/FULLSTACK-GPT/notebook.ipynb#Y112sZmlsZQ%3D%3D?line=7'>8</a>\u001b[0m \u001b[39m# llm chain = off-the-shelf chain -> meaning general purpose chain -\u001b[39;00m\n\u001b[1;32m      <a href='vscode-notebook-cell:/Users/yumingi/Desktop/Coding/FULLSTACK-GPT/notebook.ipynb#Y112sZmlsZQ%3D%3D?line=8'>9</a>\u001b[0m memory \u001b[39m=\u001b[39m ConversationSummaryBufferMemory(\n\u001b[1;32m     <a href='vscode-notebook-cell:/Users/yumingi/Desktop/Coding/FULLSTACK-GPT/notebook.ipynb#Y112sZmlsZQ%3D%3D?line=9'>10</a>\u001b[0m     llm\u001b[39m=\u001b[39mllm,\n\u001b[1;32m     <a href='vscode-notebook-cell:/Users/yumingi/Desktop/Coding/FULLSTACK-GPT/notebook.ipynb#Y112sZmlsZQ%3D%3D?line=10'>11</a>\u001b[0m     max_token_limit\u001b[39m=\u001b[39m\u001b[39m120\u001b[39m,\n\u001b[1;32m     <a href='vscode-notebook-cell:/Users/yumingi/Desktop/Coding/FULLSTACK-GPT/notebook.ipynb#Y112sZmlsZQ%3D%3D?line=11'>12</a>\u001b[0m     memory_key\u001b[39m=\u001b[39m\u001b[39m\"\u001b[39m\u001b[39mchat_history\u001b[39m\u001b[39m\"\u001b[39m,  \u001b[39m# make space for memory\u001b[39;00m\n\u001b[1;32m     <a href='vscode-notebook-cell:/Users/yumingi/Desktop/Coding/FULLSTACK-GPT/notebook.ipynb#Y112sZmlsZQ%3D%3D?line=12'>13</a>\u001b[0m     return_messages\u001b[39m=\u001b[39m\u001b[39mTrue\u001b[39;00m,\n\u001b[1;32m     <a href='vscode-notebook-cell:/Users/yumingi/Desktop/Coding/FULLSTACK-GPT/notebook.ipynb#Y112sZmlsZQ%3D%3D?line=13'>14</a>\u001b[0m )\n\u001b[0;32m---> <a href='vscode-notebook-cell:/Users/yumingi/Desktop/Coding/FULLSTACK-GPT/notebook.ipynb#Y112sZmlsZQ%3D%3D?line=15'>16</a>\u001b[0m prompt \u001b[39m=\u001b[39m ChatPromptTemplate\u001b[39m.\u001b[39;49mformat_messages(\n\u001b[1;32m     <a href='vscode-notebook-cell:/Users/yumingi/Desktop/Coding/FULLSTACK-GPT/notebook.ipynb#Y112sZmlsZQ%3D%3D?line=16'>17</a>\u001b[0m     [\n\u001b[1;32m     <a href='vscode-notebook-cell:/Users/yumingi/Desktop/Coding/FULLSTACK-GPT/notebook.ipynb#Y112sZmlsZQ%3D%3D?line=17'>18</a>\u001b[0m         (\u001b[39m\"\u001b[39;49m\u001b[39msystem\u001b[39;49m\u001b[39m\"\u001b[39;49m, \u001b[39m\"\u001b[39;49m\u001b[39mYou are a helpful AI talking to a human\u001b[39;49m\u001b[39m\"\u001b[39;49m),\n\u001b[1;32m     <a href='vscode-notebook-cell:/Users/yumingi/Desktop/Coding/FULLSTACK-GPT/notebook.ipynb#Y112sZmlsZQ%3D%3D?line=18'>19</a>\u001b[0m         MessagesPlaceholder(variable_name\u001b[39m=\u001b[39;49m\u001b[39m\"\u001b[39;49m\u001b[39mchat_history\u001b[39;49m\u001b[39m\"\u001b[39;49m),\u001b[39m# 시스템 / 사람/ AI 누가 어떤 양의 메세지를 보낼지 모르지만 MessagesPlaceholder 덕분에 Memory class로 대체 \u001b[39;49;00m\n\u001b[1;32m     <a href='vscode-notebook-cell:/Users/yumingi/Desktop/Coding/FULLSTACK-GPT/notebook.ipynb#Y112sZmlsZQ%3D%3D?line=19'>20</a>\u001b[0m         (\u001b[39m\"\u001b[39;49m\u001b[39mhuman\u001b[39;49m\u001b[39m\"\u001b[39;49m, \u001b[39m\"\u001b[39;49m\u001b[39m{question}\u001b[39;49;00m\u001b[39m\"\u001b[39;49m),\n\u001b[1;32m     <a href='vscode-notebook-cell:/Users/yumingi/Desktop/Coding/FULLSTACK-GPT/notebook.ipynb#Y112sZmlsZQ%3D%3D?line=20'>21</a>\u001b[0m     ]\n\u001b[1;32m     <a href='vscode-notebook-cell:/Users/yumingi/Desktop/Coding/FULLSTACK-GPT/notebook.ipynb#Y112sZmlsZQ%3D%3D?line=21'>22</a>\u001b[0m )\n\u001b[1;32m     <a href='vscode-notebook-cell:/Users/yumingi/Desktop/Coding/FULLSTACK-GPT/notebook.ipynb#Y112sZmlsZQ%3D%3D?line=23'>24</a>\u001b[0m chain \u001b[39m=\u001b[39m LLMChain(\n\u001b[1;32m     <a href='vscode-notebook-cell:/Users/yumingi/Desktop/Coding/FULLSTACK-GPT/notebook.ipynb#Y112sZmlsZQ%3D%3D?line=24'>25</a>\u001b[0m     llm\u001b[39m=\u001b[39mllm,\n\u001b[1;32m     <a href='vscode-notebook-cell:/Users/yumingi/Desktop/Coding/FULLSTACK-GPT/notebook.ipynb#Y112sZmlsZQ%3D%3D?line=25'>26</a>\u001b[0m     memory\u001b[39m=\u001b[39mmemory,\n\u001b[1;32m     <a href='vscode-notebook-cell:/Users/yumingi/Desktop/Coding/FULLSTACK-GPT/notebook.ipynb#Y112sZmlsZQ%3D%3D?line=26'>27</a>\u001b[0m     prompt\u001b[39m=\u001b[39mprompt,\n\u001b[1;32m     <a href='vscode-notebook-cell:/Users/yumingi/Desktop/Coding/FULLSTACK-GPT/notebook.ipynb#Y112sZmlsZQ%3D%3D?line=27'>28</a>\u001b[0m     verbose\u001b[39m=\u001b[39m\u001b[39mTrue\u001b[39;00m,\n\u001b[1;32m     <a href='vscode-notebook-cell:/Users/yumingi/Desktop/Coding/FULLSTACK-GPT/notebook.ipynb#Y112sZmlsZQ%3D%3D?line=28'>29</a>\u001b[0m )\n\u001b[1;32m     <a href='vscode-notebook-cell:/Users/yumingi/Desktop/Coding/FULLSTACK-GPT/notebook.ipynb#Y112sZmlsZQ%3D%3D?line=30'>31</a>\u001b[0m chain\u001b[39m.\u001b[39mpredict(question\u001b[39m=\u001b[39m\u001b[39m\"\u001b[39m\u001b[39mMy name is Mingi\u001b[39m\u001b[39m\"\u001b[39m)\n",
      "File \u001b[0;32m~/Desktop/Coding/FULLSTACK-GPT/env/lib/python3.11/site-packages/langchain/prompts/chat.py:575\u001b[0m, in \u001b[0;36mChatPromptTemplate.format_messages\u001b[0;34m(self, **kwargs)\u001b[0m\n\u001b[1;32m    565\u001b[0m \u001b[39mdef\u001b[39;00m \u001b[39mformat_messages\u001b[39m(\u001b[39mself\u001b[39m, \u001b[39m*\u001b[39m\u001b[39m*\u001b[39mkwargs: Any) \u001b[39m-\u001b[39m\u001b[39m>\u001b[39m List[BaseMessage]:\n\u001b[1;32m    566\u001b[0m \u001b[39m    \u001b[39m\u001b[39m\"\"\"Format the chat template into a list of finalized messages.\u001b[39;00m\n\u001b[1;32m    567\u001b[0m \n\u001b[1;32m    568\u001b[0m \u001b[39m    Args:\u001b[39;00m\n\u001b[0;32m   (...)\u001b[0m\n\u001b[1;32m    573\u001b[0m \u001b[39m        list of formatted messages\u001b[39;00m\n\u001b[1;32m    574\u001b[0m \u001b[39m    \"\"\"\u001b[39;00m\n\u001b[0;32m--> 575\u001b[0m     kwargs \u001b[39m=\u001b[39m \u001b[39mself\u001b[39;49m\u001b[39m.\u001b[39;49m_merge_partial_and_user_variables(\u001b[39m*\u001b[39m\u001b[39m*\u001b[39mkwargs)\n\u001b[1;32m    576\u001b[0m     result \u001b[39m=\u001b[39m []\n\u001b[1;32m    577\u001b[0m     \u001b[39mfor\u001b[39;00m message_template \u001b[39min\u001b[39;00m \u001b[39mself\u001b[39m\u001b[39m.\u001b[39mmessages:\n",
      "\u001b[0;31mAttributeError\u001b[0m: 'list' object has no attribute '_merge_partial_and_user_variables'"
     ]
    }
   ],
   "source": [
    "from langchain.memory import ConversationSummaryBufferMemory\n",
    "from langchain.chat_models import ChatOpenAI\n",
    "from langchain.chains import LLMChain\n",
    "from langchain.prompts import PromptTemplate, ChatPromptTemplate, MessagesPlaceholder\n",
    "\n",
    "llm = ChatOpenAI(temperature=0.1)\n",
    "\n",
    "# llm chain = off-the-shelf chain -> meaning general purpose chain -\n",
    "memory = ConversationSummaryBufferMemory(\n",
    "    llm=llm,\n",
    "    max_token_limit=120,\n",
    "    memory_key=\"chat_history\",  # make space for memory\n",
    "    return_messages=True,\n",
    ")\n",
    "\n",
    "prompt = ChatPromptTemplate.from_messages(\n",
    "    [\n",
    "        (\"system\", \"You are a helpful AI talking to a human\"),\n",
    "        MessagesPlaceholder(variable_name=\"chat_history\"),# 시스템 / 사람/ AI 누가 어떤 양의 메세지를 보낼지 모르지만 MessagesPlaceholder 덕분에 Memory class로 대체 \n",
    "        (\"human\", \"{question}\"),\n",
    "    ]\n",
    ")\n",
    "\n",
    "chain = LLMChain(\n",
    "    llm=llm,\n",
    "    memory=memory,\n",
    "    prompt=prompt,\n",
    "    verbose=True,\n",
    ")\n",
    "\n",
    "chain.predict(question=\"My name is Mingi\")"
   ]
  },
  {
   "cell_type": "code",
   "execution_count": null,
   "metadata": {},
   "outputs": [],
   "source": [
    "chain.predict(question=\"I'm living in Singapore\")"
   ]
  },
  {
   "cell_type": "code",
   "execution_count": null,
   "metadata": {},
   "outputs": [],
   "source": [
    "chain.predict(question=\"What is my name?\")"
   ]
  }
 ],
 "metadata": {
  "kernelspec": {
   "display_name": "env",
   "language": "python",
   "name": "python3"
  },
  "language_info": {
   "codemirror_mode": {
    "name": "ipython",
    "version": 3
   },
   "file_extension": ".py",
   "mimetype": "text/x-python",
   "name": "python",
   "nbconvert_exporter": "python",
   "pygments_lexer": "ipython3",
   "version": "3.11.6"
  }
 },
 "nbformat": 4,
 "nbformat_minor": 2
}
