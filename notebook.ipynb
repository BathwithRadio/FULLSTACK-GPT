{
 "cells": [
  {
   "cell_type": "code",
   "execution_count": 3,
   "metadata": {},
   "outputs": [],
   "source": [
    "# from langchain.chat_models import ChatOpenAI\n",
    "\n",
    "# llm = OpenAI(model_name=\"gpt-3.5-turbo-1106\") \n",
    "## davinci-3 is deprecated, so I need to add  - model_name=\"gpt-3.5-turbo-1106\"-\n",
    "# chat = ChatOpenAI()\n",
    "\n",
    "# a = llm.predict(\"How mant planets are there?\")\n",
    "# b = chat.predict(\"How mant planets are there?\")\n",
    "\n",
    "# b\n"
   ]
  },
  {
   "cell_type": "code",
   "execution_count": 9,
   "metadata": {},
   "outputs": [
    {
     "data": {
      "text/plain": [
       "'The distance between Mexico and Japan is approximately 11,000 kilometers (6,835 miles) when measured in a straight line.'"
      ]
     },
     "execution_count": 9,
     "metadata": {},
     "output_type": "execute_result"
    }
   ],
   "source": [
    "from langchain.chat_models import ChatOpenAI\n",
    "from langchain.prompts import PromptTemplate, ChatPromptTemplate\n",
    "\n",
    "# set how this model is creative\n",
    "# prompt가 좋다면 성능도 좋다 - 모든 웹사이트들이 상황에 맞는 뛰어난 성능의 prompt를 제작하는데 전념\n",
    "chat = ChatOpenAI( temperature=0.1)\n",
    "\n",
    "template = PromptTemplate.from_template(\n",
    "    \"What is the distance between {country_a} and {country_b}. \"\n",
    ")\n",
    "\n",
    "prompt = template.format(country_a = \"Mexico\", country_b = \"Japan\")\n",
    "\n",
    "chat.predict(prompt)\n",
    "\n",
    "\n",
    "\n"
   ]
  },
  {
   "cell_type": "code",
   "execution_count": 11,
   "metadata": {},
   "outputs": [
    {
     "data": {
      "text/plain": [
       "AIMessage(content='Η απόσταση μεταξύ του Μεξικού και της Ταϊλάνδης είναι περίπου 16.000 χιλιόμετρα. Το όνομά μου είναι Σωκράτης.')"
      ]
     },
     "execution_count": 11,
     "metadata": {},
     "output_type": "execute_result"
    }
   ],
   "source": [
    "template = ChatPromptTemplate.from_messages(\n",
    "    [\n",
    "    ## prompt customize\n",
    "    (\"system\", \"You are a geogrphy expert. And you are only reply in {language}.\",),\n",
    "    (\"ai\", \"Ciao, mi chiamo {name}!\",),\n",
    "    (\"human\", \"What is the distance between {country_a} and {country_b}. Also, what is your name?\",)\n",
    "    ]\n",
    ")\n",
    "\n",
    "prompt = template.format_messages(\n",
    "    language = \"Greek\",\n",
    "    name = \"Socrates\",\n",
    "    country_a = \"Mexico\",\n",
    "    country_b = \"Thailand\",\n",
    ")\n",
    "\n",
    "chat.predict_messages(prompt)"
   ]
  },
  {
   "cell_type": "markdown",
   "metadata": {},
   "source": []
  }
 ],
 "metadata": {
  "kernelspec": {
   "display_name": "env",
   "language": "python",
   "name": "python3"
  },
  "language_info": {
   "codemirror_mode": {
    "name": "ipython",
    "version": 3
   },
   "file_extension": ".py",
   "mimetype": "text/x-python",
   "name": "python",
   "nbconvert_exporter": "python",
   "pygments_lexer": "ipython3",
   "version": "3.11.6"
  }
 },
 "nbformat": 4,
 "nbformat_minor": 2
}
